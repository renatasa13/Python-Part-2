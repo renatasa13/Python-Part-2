{
 "cells": [
  {
   "cell_type": "markdown",
   "id": "85712852",
   "metadata": {},
   "source": [
    "### Function\n",
    "\n",
    "* In mathematics, a function is a process that relates between an input and an output.\n",
    "* In Python, apart from these relational functions, functions are also a way to organize code - with the ultimate goal of code being reusable.\n",
    "* It's best if the function has only one specific use but can be reused.\n",
    "* Common functions are provided by Python.\n",
    "* But we can define our own functions."
   ]
  },
  {
   "cell_type": "markdown",
   "id": "009407d2",
   "metadata": {},
   "source": [
    "### Definition of Function\n",
    "\n",
    "* Functions are defined with the def keyword followed by the function name and parameters in brackets ()\n",
    "* Optionally, you can add a docstring - a documentation string that describes the context of the function.\n",
    "* Code blocks within each function start with a colon and use indentation.\n",
    "* The function stops when there is a return [expression] statement which returns [expression] to the caller.\n",
    "* You can also make a function return no output with return None."
   ]
  },
  {
   "cell_type": "code",
   "execution_count": null,
   "id": "05d7479a",
   "metadata": {},
   "outputs": [],
   "source": [
    "def pangkat(x):\n",
    "    kuadrat = x**2 # fungsi pankat dua\n",
    "    return kuadrat"
   ]
  },
  {
   "cell_type": "code",
   "execution_count": null,
   "id": "f2ac7e13",
   "metadata": {},
   "outputs": [],
   "source": [
    "pangkat(3)"
   ]
  },
  {
   "cell_type": "code",
   "execution_count": null,
   "id": "a563582b",
   "metadata": {},
   "outputs": [],
   "source": [
    "def pangkat_tiga(x):\n",
    "    kubik = x**3 # fungsi pangkat tiga\n",
    "    print(kubik)"
   ]
  },
  {
   "cell_type": "code",
   "execution_count": null,
   "id": "c643fd76",
   "metadata": {},
   "outputs": [],
   "source": [
    "pangkat_tiga(5)"
   ]
  },
  {
   "cell_type": "markdown",
   "id": "9542f102",
   "metadata": {},
   "source": [
    "##### Task 1"
   ]
  },
  {
   "cell_type": "code",
   "execution_count": 1,
   "id": "04b55b7b",
   "metadata": {},
   "outputs": [],
   "source": [
    "#nilai tukar mata uang rupiah ke dolar\n",
    "def kurs_uang(x):\n",
    "    kurs = x*0.000065\n",
    "    print(\"$\",kurs)"
   ]
  },
  {
   "cell_type": "code",
   "execution_count": 2,
   "id": "88c84c11",
   "metadata": {},
   "outputs": [
    {
     "name": "stdout",
     "output_type": "stream",
     "text": [
      "$ 0.9099999999999999\n"
     ]
    }
   ],
   "source": [
    "kurs_uang(14000)"
   ]
  },
  {
   "cell_type": "code",
   "execution_count": 3,
   "id": "64b83b59",
   "metadata": {},
   "outputs": [
    {
     "name": "stdout",
     "output_type": "stream",
     "text": [
      "$ 1.6249999999999998\n"
     ]
    }
   ],
   "source": [
    "kurs_uang(25000)"
   ]
  },
  {
   "cell_type": "code",
   "execution_count": null,
   "id": "77b07b96",
   "metadata": {},
   "outputs": [],
   "source": [
    "def nama(x):\n",
    "    halo = \"Hai {}\".format(x)\n",
    "    return halo"
   ]
  },
  {
   "cell_type": "code",
   "execution_count": null,
   "id": "4219f16b",
   "metadata": {},
   "outputs": [],
   "source": [
    "nama(\"Renata\")"
   ]
  },
  {
   "cell_type": "markdown",
   "id": "890bf667",
   "metadata": {},
   "source": [
    "### Return\n",
    "\n",
    "The return (expression) statement will make the program execution exit the current task and return a certain value."
   ]
  },
  {
   "cell_type": "code",
   "execution_count": 4,
   "id": "79c37d3c",
   "metadata": {},
   "outputs": [],
   "source": [
    "def tambah(x,y):\n",
    "    plus = x+y # fungsi penjumlahan\n",
    "    print(\"Hasil penjumlahan adalah {}\". format(plus))\n",
    "    return plus"
   ]
  },
  {
   "cell_type": "code",
   "execution_count": 5,
   "id": "19dcb120",
   "metadata": {},
   "outputs": [
    {
     "name": "stdout",
     "output_type": "stream",
     "text": [
      "Hasil penjumlahan adalah5\n"
     ]
    },
    {
     "data": {
      "text/plain": [
       "5"
      ]
     },
     "execution_count": 5,
     "metadata": {},
     "output_type": "execute_result"
    }
   ],
   "source": [
    "tambah(2,3)"
   ]
  },
  {
   "cell_type": "code",
   "execution_count": 7,
   "id": "2cdf9a96",
   "metadata": {},
   "outputs": [
    {
     "name": "stdout",
     "output_type": "stream",
     "text": [
      "Hasil penjumlahan adalah5\n",
      "Hasil dari return adalah 5\n"
     ]
    }
   ],
   "source": [
    "output = tambah(2,3)\n",
    "print(\"Hasil dari return adalah {}\". format(output))"
   ]
  },
  {
   "cell_type": "markdown",
   "id": "6f701f8f",
   "metadata": {},
   "source": [
    "##### Task 2"
   ]
  },
  {
   "cell_type": "code",
   "execution_count": 18,
   "id": "6c2b3679",
   "metadata": {},
   "outputs": [],
   "source": [
    "def random_number(x,y):\n",
    "    x = 5*x + 1\n",
    "    y = 4*y - 2\n",
    "    return (x+y)"
   ]
  },
  {
   "cell_type": "code",
   "execution_count": 19,
   "id": "876dda09",
   "metadata": {},
   "outputs": [
    {
     "data": {
      "text/plain": [
       "42"
      ]
     },
     "execution_count": 19,
     "metadata": {},
     "output_type": "execute_result"
    }
   ],
   "source": [
    "random_number(3,7)"
   ]
  }
 ],
 "metadata": {
  "kernelspec": {
   "display_name": "Python 3 (ipykernel)",
   "language": "python",
   "name": "python3"
  },
  "language_info": {
   "codemirror_mode": {
    "name": "ipython",
    "version": 3
   },
   "file_extension": ".py",
   "mimetype": "text/x-python",
   "name": "python",
   "nbconvert_exporter": "python",
   "pygments_lexer": "ipython3",
   "version": "3.11.4"
  }
 },
 "nbformat": 4,
 "nbformat_minor": 5
}
