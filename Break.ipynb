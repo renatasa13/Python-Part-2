{
 "cells": [
  {
   "cell_type": "markdown",
   "id": "20ab9553",
   "metadata": {},
   "source": [
    "### Break\n",
    "\n",
    "* The break statement stops the loop and then exits, followed by executing the statement after the loop block\n",
    "* If you have a nested loop, break will stop the loop according to the level or loop, whichever it is at\n",
    "* However, if it is placed in a second depth loop, for example, only that loop will stop, not the main loop."
   ]
  },
  {
   "cell_type": "code",
   "execution_count": 1,
   "id": "f8e6eeb9",
   "metadata": {},
   "outputs": [
    {
     "name": "stdout",
     "output_type": "stream",
     "text": [
      "D\n",
      "a\n",
      "t\n",
      "a\n"
     ]
    }
   ],
   "source": [
    "for i in \"Data Science\":\n",
    "    if i == \" \":\n",
    "        break\n",
    "    print(i)"
   ]
  },
  {
   "cell_type": "code",
   "execution_count": 2,
   "id": "40ecdf19",
   "metadata": {},
   "outputs": [
    {
     "name": "stdout",
     "output_type": "stream",
     "text": [
      "Berapa nilai Anda (0-100): 89\n",
      "Anda mendapatkan nilai A\n"
     ]
    }
   ],
   "source": [
    "nilai = int(input(\"Berapa nilai Anda (0-100): \"))\n",
    "\n",
    "for i in range (nilai):\n",
    "    if nilai>=80:\n",
    "        print(\"Anda mendapatkan nilai A\")\n",
    "        break\n",
    "    elif nilai>=60:\n",
    "        print(\"Anda mendapatkan nilai B\")\n",
    "        break\n",
    "    else:\n",
    "        print(\"Anda mendapatkan nilai C\")\n",
    "        break"
   ]
  }
 ],
 "metadata": {
  "kernelspec": {
   "display_name": "Python 3 (ipykernel)",
   "language": "python",
   "name": "python3"
  },
  "language_info": {
   "codemirror_mode": {
    "name": "ipython",
    "version": 3
   },
   "file_extension": ".py",
   "mimetype": "text/x-python",
   "name": "python",
   "nbconvert_exporter": "python",
   "pygments_lexer": "ipython3",
   "version": "3.11.4"
  }
 },
 "nbformat": 4,
 "nbformat_minor": 5
}
