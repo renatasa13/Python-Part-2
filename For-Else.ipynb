{
 "cells": [
  {
   "cell_type": "markdown",
   "id": "cfb469ab",
   "metadata": {},
   "source": [
    "### Else after For\n",
    "\n",
    "The else function after for is a function that takes precedence in search loops to provide a program exit when the search is not found"
   ]
  },
  {
   "cell_type": "code",
   "execution_count": 2,
   "id": "6e8246a2",
   "metadata": {},
   "outputs": [
    {
     "name": "stdout",
     "output_type": "stream",
     "text": [
      "1 adalah bukan genap\n",
      "2 adalah bilangan genap\n",
      "3 adalah bukan genap\n",
      "4 adalah bilangan genap\n",
      "5 adalah bukan genap\n",
      "6 adalah bilangan genap\n"
     ]
    }
   ],
   "source": [
    "for i in range(1,7):\n",
    "    if i % 2 == 0:\n",
    "        print(\"{} adalah bilangan genap\".format(i))\n",
    "    else:\n",
    "        print(\"{} adalah bukan genap\".format(i))"
   ]
  },
  {
   "cell_type": "code",
   "execution_count": 4,
   "id": "eb07c718",
   "metadata": {},
   "outputs": [
    {
     "name": "stdout",
     "output_type": "stream",
     "text": [
      "Berapa nilai Anda (0-100): 89\n",
      "Anda mendapatkan nilai A\n"
     ]
    }
   ],
   "source": [
    "nilai = int(input(\"Berapa nilai Anda (0-100): \"))\n",
    "\n",
    "for i in range (nilai):\n",
    "    if nilai>=80:\n",
    "        print(\"Anda mendapatkan nilai A\")\n",
    "        break\n",
    "    elif nilai>=60:\n",
    "        print(\"Anda mendapatkan nilai B\")\n",
    "        break\n",
    "    else:\n",
    "        print(\"Anda mendapatkan nilai C\")\n",
    "        break"
   ]
  }
 ],
 "metadata": {
  "kernelspec": {
   "display_name": "Python 3 (ipykernel)",
   "language": "python",
   "name": "python3"
  },
  "language_info": {
   "codemirror_mode": {
    "name": "ipython",
    "version": 3
   },
   "file_extension": ".py",
   "mimetype": "text/x-python",
   "name": "python",
   "nbconvert_exporter": "python",
   "pygments_lexer": "ipython3",
   "version": "3.11.4"
  }
 },
 "nbformat": 4,
 "nbformat_minor": 5
}
