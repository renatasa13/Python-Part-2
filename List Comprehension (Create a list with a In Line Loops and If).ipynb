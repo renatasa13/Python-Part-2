{
 "cells": [
  {
   "cell_type": "markdown",
   "id": "83c50047",
   "metadata": {},
   "source": [
    "### List Comprehension (Creating lists with inline loops and if)\n",
    "\n",
    "* There are times when we need to create a new list from the previous list operation\n",
    "* List comprehension is a way to generate new content based on previously existing lists or irretables"
   ]
  },
  {
   "cell_type": "code",
   "execution_count": 1,
   "id": "56ec726f",
   "metadata": {},
   "outputs": [],
   "source": [
    "angka = [2,3,4]"
   ]
  },
  {
   "cell_type": "code",
   "execution_count": 2,
   "id": "c7c3d7f7",
   "metadata": {},
   "outputs": [],
   "source": [
    "kubik = []"
   ]
  },
  {
   "cell_type": "code",
   "execution_count": 3,
   "id": "8a914844",
   "metadata": {},
   "outputs": [
    {
     "name": "stdout",
     "output_type": "stream",
     "text": [
      "[8, 27, 64]\n"
     ]
    }
   ],
   "source": [
    "for i in angka:\n",
    "    kubik.append(i**3)\n",
    "print(kubik)"
   ]
  },
  {
   "cell_type": "code",
   "execution_count": 4,
   "id": "26829b39",
   "metadata": {},
   "outputs": [
    {
     "data": {
      "text/plain": [
       "[8, 27, 64]"
      ]
     },
     "execution_count": 4,
     "metadata": {},
     "output_type": "execute_result"
    }
   ],
   "source": [
    "kubik"
   ]
  },
  {
   "cell_type": "markdown",
   "id": "12f54ab7",
   "metadata": {},
   "source": [
    "##### Task 1 (create a comprehension list)"
   ]
  },
  {
   "cell_type": "code",
   "execution_count": 5,
   "id": "b8e5c907",
   "metadata": {},
   "outputs": [],
   "source": [
    "angka = [1,2,3,4,5,6,7,8,9,10]"
   ]
  },
  {
   "cell_type": "code",
   "execution_count": 6,
   "id": "916f81e5",
   "metadata": {},
   "outputs": [],
   "source": [
    "kuadrat = []"
   ]
  },
  {
   "cell_type": "code",
   "execution_count": 7,
   "id": "0bc4c9d2",
   "metadata": {},
   "outputs": [
    {
     "name": "stdout",
     "output_type": "stream",
     "text": [
      "[1, 4, 9, 16, 25, 36, 49, 64, 81, 100]\n"
     ]
    }
   ],
   "source": [
    "for i in angka:\n",
    "    kuadrat.append(i**2)\n",
    "print(kuadrat)"
   ]
  },
  {
   "cell_type": "markdown",
   "id": "a589e5c2",
   "metadata": {},
   "source": [
    "###### Writing in another way\n",
    "\n",
    "new_list =[expression for_loop_one_or_more condition]"
   ]
  },
  {
   "cell_type": "code",
   "execution_count": 8,
   "id": "65e7be2b",
   "metadata": {},
   "outputs": [],
   "source": [
    "angka = [2,3,4]"
   ]
  },
  {
   "cell_type": "code",
   "execution_count": 9,
   "id": "0673f6c5",
   "metadata": {},
   "outputs": [],
   "source": [
    "kubik = [i**3 for i in angka]"
   ]
  },
  {
   "cell_type": "code",
   "execution_count": 10,
   "id": "18f45135",
   "metadata": {},
   "outputs": [
    {
     "name": "stdout",
     "output_type": "stream",
     "text": [
      "[8, 27, 64]\n"
     ]
    }
   ],
   "source": [
    "print(kubik)"
   ]
  },
  {
   "cell_type": "code",
   "execution_count": 11,
   "id": "431c8628",
   "metadata": {},
   "outputs": [
    {
     "name": "stdout",
     "output_type": "stream",
     "text": [
      "['c']\n"
     ]
    }
   ],
   "source": [
    "abc = ['a', 'b', 'c']\n",
    "cde = ['c', 'd', 'e']\n",
    "\n",
    "duplikat = []\n",
    "\n",
    "for i in abc:\n",
    "    for j in cde:\n",
    "        if i == j:\n",
    "            duplikat.append(i)\n",
    "\n",
    "print(duplikat)"
   ]
  },
  {
   "cell_type": "markdown",
   "id": "71f1c628",
   "metadata": {},
   "source": [
    "For example, use another method but the list is not empty"
   ]
  },
  {
   "cell_type": "code",
   "execution_count": 12,
   "id": "2ea87e75",
   "metadata": {},
   "outputs": [
    {
     "name": "stdout",
     "output_type": "stream",
     "text": [
      "['c']\n"
     ]
    }
   ],
   "source": [
    "abc = ['a', 'b', 'c']\n",
    "cde = ['c', 'd', 'e']\n",
    "\n",
    "duplikat = [i for i in abc for j in cde if i == j]\n",
    "\n",
    "print(duplikat)"
   ]
  },
  {
   "cell_type": "markdown",
   "id": "16d7a56c",
   "metadata": {},
   "source": [
    "##### Task 2 (create list comprehensions, nested fors, and conditional expressions)"
   ]
  },
  {
   "cell_type": "code",
   "execution_count": 15,
   "id": "62136789",
   "metadata": {},
   "outputs": [
    {
     "name": "stdout",
     "output_type": "stream",
     "text": [
      "['Tidak Lulus', 'Perbaikan', 'Perbaikan', 'Lulus', 'Lulus', 'Lulus', 'Lulus', 'Lulus']\n"
     ]
    }
   ],
   "source": [
    "nilai = [40, 50, 55, 60, 70, 80, 90, 95]\n",
    "\n",
    "keterangan = [\"Lulus\" if x >= 60 else \"Tidak Lulus\" if x < 50 else \"Perbaikan\" for x in nilai]\n",
    "\n",
    "print(keterangan)"
   ]
  },
  {
   "cell_type": "code",
   "execution_count": 17,
   "id": "d12ce599",
   "metadata": {},
   "outputs": [
    {
     "name": "stdout",
     "output_type": "stream",
     "text": [
      "['DATA', 'SCIENCE']\n"
     ]
    }
   ],
   "source": [
    "data = [\"data\", \"science\"]\n",
    "\n",
    "upper = [_.upper() for _ in data]\n",
    "\n",
    "print(upper)"
   ]
  },
  {
   "cell_type": "markdown",
   "id": "ee9f6b54",
   "metadata": {},
   "source": [
    "* The underscore includes valid variable equations.\n",
    "* In general \"_\" is usually used as a throwaway variable (unimportant variable)"
   ]
  },
  {
   "cell_type": "code",
   "execution_count": 18,
   "id": "38313085",
   "metadata": {},
   "outputs": [
    {
     "name": "stdout",
     "output_type": "stream",
     "text": [
      "[[1, 1], [9, 27], [25, 125], [49, 343]]\n"
     ]
    }
   ],
   "source": [
    "angka = range(1, 8, 2)\n",
    "kuadrat_kubik = [[_**2, _**3] for _ in angka]\n",
    "print(kuadrat_kubik)"
   ]
  }
 ],
 "metadata": {
  "kernelspec": {
   "display_name": "Python 3 (ipykernel)",
   "language": "python",
   "name": "python3"
  },
  "language_info": {
   "codemirror_mode": {
    "name": "ipython",
    "version": 3
   },
   "file_extension": ".py",
   "mimetype": "text/x-python",
   "name": "python",
   "nbconvert_exporter": "python",
   "pygments_lexer": "ipython3",
   "version": "3.11.4"
  }
 },
 "nbformat": 4,
 "nbformat_minor": 5
}
