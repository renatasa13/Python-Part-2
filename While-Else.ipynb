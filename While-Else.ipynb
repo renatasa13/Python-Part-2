{
 "cells": [
  {
   "cell_type": "markdown",
   "id": "2a2c94a0",
   "metadata": {},
   "source": [
    "### Else after While\n",
    "\n",
    "In the while statement, the else statement block will always be executed when the condition in the while becomes false."
   ]
  },
  {
   "cell_type": "code",
   "execution_count": 6,
   "id": "40f3cff0",
   "metadata": {},
   "outputs": [
    {
     "name": "stdout",
     "output_type": "stream",
     "text": [
      "0\n",
      "2\n",
      "4\n"
     ]
    }
   ],
   "source": [
    "angka = int(input())\n",
    "\n",
    "while(angka < 10):\n",
    "    angka = angka + 2\n",
    "    if angka == 6:\n",
    "        break\n",
    "    print(angka)\n",
    "else :\n",
    "    print(\"Loop is done\")"
   ]
  },
  {
   "cell_type": "markdown",
   "id": "3b7d9d9b",
   "metadata": {},
   "source": [
    "##### Task 2"
   ]
  },
  {
   "cell_type": "code",
   "execution_count": 7,
   "id": "bc33f2ea",
   "metadata": {},
   "outputs": [
    {
     "name": "stdout",
     "output_type": "stream",
     "text": [
      "1\n",
      "bilang 4\n",
      "bilang 7\n",
      "bilang 10\n",
      "bilang 13\n",
      "bilang 16\n",
      "bilang 19\n",
      "bilang 22\n",
      "loop selesai\n"
     ]
    }
   ],
   "source": [
    "angka = int(input())\n",
    "\n",
    "while (angka < 20):\n",
    "    angka += 3\n",
    "    if angka == 5:\n",
    "        print(\"bilangan {}\".format(angka))\n",
    "        break\n",
    "    elif angka == 14:\n",
    "        print(\"bilang {}\". format(angka))\n",
    "        break\n",
    "    else:\n",
    "        print(\"bilang {}\". format(angka))\n",
    "        continue\n",
    "    print(angka)\n",
    "else:\n",
    "    print(\"loop selesai\")"
   ]
  },
  {
   "cell_type": "code",
   "execution_count": null,
   "id": "8d95cc29",
   "metadata": {},
   "outputs": [],
   "source": [
    "angka = int(input())\n",
    "\n",
    "while (angka > 0):\n",
    "    angka = angka - 2\n",
    "    print(angka)\n",
    "else:\n",
    "    print(\"loop selesai\")"
   ]
  },
  {
   "cell_type": "markdown",
   "id": "ad7360ad",
   "metadata": {},
   "source": [
    "##### Task 3"
   ]
  },
  {
   "cell_type": "code",
   "execution_count": null,
   "id": "2eb50e93",
   "metadata": {},
   "outputs": [],
   "source": [
    "angka = int(input())\n",
    "\n",
    "while (angka > 0):\n",
    "    angka = angka - 5\n",
    "    print(angka)\n",
    "else:\n",
    "    print(\"loop selesai\")"
   ]
  },
  {
   "cell_type": "code",
   "execution_count": null,
   "id": "92362faf",
   "metadata": {},
   "outputs": [],
   "source": [
    "if 1 <= n <= 100 :\n",
    "    n = input(input(\"Masukkan angka: \"))\n",
    "    if n % 2:\n",
    "        print(\"Weird\")\n",
    "    elif 2 < n < 5:\n",
    "        print(\"Not Weird\")\n",
    "    elif 6 < n < 20:\n",
    "        print(\"Weird\")\n",
    "    elif n > 20:\n",
    "        print(\"Not Weird\")"
   ]
  },
  {
   "cell_type": "markdown",
   "id": "5378f48c",
   "metadata": {},
   "source": [
    "##### Hackerrank Task"
   ]
  },
  {
   "cell_type": "code",
   "execution_count": null,
   "id": "cca1ce3c",
   "metadata": {},
   "outputs": [],
   "source": [
    "# rekomendasi makanan sesuai budget\n",
    "budget = int(input(\"Berapa budget makan siangmu? \"))\n",
    "if budget > 20000:\n",
    "    print(\"Restoran cepat saji akan lebih baik jika waktu makan siangmu hanya sebentar\")\n",
    "elif budget > 10000:\n",
    "    print (\"Lalapan ayam sepertinya enak\")\n",
    "elif budget > 2000:\n",
    "    print(\"Makan soto ayam saja\")    \n",
    "elif 0 < budget < 2000:\n",
    "    print(\"Makan di rumah akan sangat membantu\")\n",
    "else:\n",
    "    print(\"Harap masukkan nilai budget dengan benar\")"
   ]
  }
 ],
 "metadata": {
  "kernelspec": {
   "display_name": "Python 3 (ipykernel)",
   "language": "python",
   "name": "python3"
  },
  "language_info": {
   "codemirror_mode": {
    "name": "ipython",
    "version": 3
   },
   "file_extension": ".py",
   "mimetype": "text/x-python",
   "name": "python",
   "nbconvert_exporter": "python",
   "pygments_lexer": "ipython3",
   "version": "3.11.4"
  }
 },
 "nbformat": 4,
 "nbformat_minor": 5
}
