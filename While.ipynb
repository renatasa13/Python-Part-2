{
 "cells": [
  {
   "cell_type": "markdown",
   "id": "0ee9a114",
   "metadata": {},
   "source": [
    "### While\n",
    "\n",
    "* While in the Python language is used to execute a statement as long as a given condition is met (True)\n",
    "* Conditions can be any expression and please remember that True in Python includes all non-zero values\n",
    "* When the condition becomes False, the program will continue to the line after the statement block"
   ]
  },
  {
   "cell_type": "code",
   "execution_count": null,
   "id": "1386a8cf",
   "metadata": {
    "scrolled": true
   },
   "outputs": [],
   "source": [
    "angka = int(input())\n",
    "while (angka < 3):\n",
    "    print(\"bilangan {}\". format(angka))\n",
    "    angka = angka + 1"
   ]
  },
  {
   "cell_type": "code",
   "execution_count": null,
   "id": "cf8f97a7",
   "metadata": {},
   "outputs": [],
   "source": [
    "angka = int(input())\n",
    "while (angka < 10):\n",
    "    print(\"bilangan {}\". format(angka))\n",
    "    angka = angka + 2"
   ]
  },
  {
   "cell_type": "markdown",
   "id": "e78674da",
   "metadata": {},
   "source": [
    "##### Task 1"
   ]
  },
  {
   "cell_type": "code",
   "execution_count": 1,
   "id": "3f2d3f74",
   "metadata": {},
   "outputs": [
    {
     "name": "stdout",
     "output_type": "stream",
     "text": [
      "1\n",
      "bilangan 1\n",
      "bilangan 3\n",
      "bilangan 5\n",
      "bilangan 7\n",
      "bilangan 9\n",
      "bilangan 11\n",
      "bilangan 13\n",
      "bilangan 15\n",
      "bilangan 17\n",
      "bilangan 19\n"
     ]
    }
   ],
   "source": [
    "angka = int(input())\n",
    "while (angka < 20):\n",
    "    print(\"bilangan {}\". format(angka))\n",
    "    angka = angka + 2"
   ]
  }
 ],
 "metadata": {
  "kernelspec": {
   "display_name": "Python 3 (ipykernel)",
   "language": "python",
   "name": "python3"
  },
  "language_info": {
   "codemirror_mode": {
    "name": "ipython",
    "version": 3
   },
   "file_extension": ".py",
   "mimetype": "text/x-python",
   "name": "python",
   "nbconvert_exporter": "python",
   "pygments_lexer": "ipython3",
   "version": "3.11.4"
  }
 },
 "nbformat": 4,
 "nbformat_minor": 5
}
